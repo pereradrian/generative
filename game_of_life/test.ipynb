{
 "cells": [
  {
   "cell_type": "code",
   "execution_count": 1,
   "metadata": {
    "ExecuteTime": {
     "end_time": "2024-11-25T15:04:21.747519Z",
     "start_time": "2024-11-25T15:04:21.080864Z"
    }
   },
   "outputs": [],
   "source": [
    "import numpy as np\n",
    "import matplotlib.pyplot as plt\n",
    "from  matplotlib.animation import FuncAnimation\n",
    "import matplotlib.animation as animation\n",
    "from copy import deepcopy\n"
   ]
  },
  {
   "cell_type": "code",
   "execution_count": 2,
   "metadata": {
    "ExecuteTime": {
     "end_time": "2024-11-25T15:04:22.450735Z",
     "start_time": "2024-11-25T15:04:22.413358Z"
    }
   },
   "outputs": [],
   "source": [
    "M = 100\n",
    "\n",
    "p = 0.01\n",
    "space = None\n",
    "\n",
    "def game(space):\n",
    "    space_out = np.zeros(shape=space.shape)\n",
    "    nadj = 0\n",
    "    for i in range(M):\n",
    "        for j in range(M):\n",
    "            nadj = adj(space,i,j)\n",
    "            # Alive\n",
    "            if space[i][j] == 1:\n",
    "                if nadj < 2:\n",
    "                    space_out[i][j] = 0\n",
    "                elif nadj > 3:\n",
    "                    space_out[i][j] = 0\n",
    "                else:\n",
    "                    space_out[i][j] = 1\n",
    "            # Dead\n",
    "            else:\n",
    "                if nadj == 3:\n",
    "                    space_out[i][j] = 1\n",
    "    for i in range(M):\n",
    "        for j in range(M):\n",
    "            space[i][j] = space_out[i][j]\n",
    "    return space\n",
    "\n",
    "def random_blob(space):\n",
    "    center_i = np.random.randint(M//4,M//2 + M//4)\n",
    "    center_j = np.random.randint(M//4,M//2 + M//4)\n",
    "    \n",
    "    i_l = center_i-1\n",
    "    i_r = center_i+1\n",
    "    j_l = center_j-1\n",
    "    j_r = center_j+1\n",
    "    if i_l < 0:\n",
    "        i_l = space.shape[0] - 1 \n",
    "    if j_l < 0:\n",
    "        j_l = space.shape[0] - 1\n",
    "    if i_r > space.shape[0] - 1:\n",
    "        i_r = 0 \n",
    "    if j_r > space.shape[1] -1:\n",
    "        j_r = 0\n",
    "    ## Make blob\n",
    "    #space[i_l][j_l] = 1\n",
    "    space[i_l][center_j] = 1\n",
    "    space[i_l][j_r] = 1\n",
    "    space[center_i][j_l] = 1\n",
    "    space[center_i][j_r] = 1\n",
    "    space[i_r][j_l] = 1\n",
    "    space[i_r][center_j] = 1\n",
    "    #space[i_r][j_r] = 1\n",
    "    \n",
    "                    \n",
    "def adj(space,i,j):\n",
    "    i_l = i-1\n",
    "    i_r = i+1\n",
    "    j_l = j-1\n",
    "    j_r = j+1\n",
    "    if i_l < 0:\n",
    "        i_l = space.shape[0] - 1 \n",
    "    if j_l < 0:\n",
    "        j_l = space.shape[1] - 1\n",
    "    if i_r > space.shape[0] - 1:\n",
    "        i_r = 0 \n",
    "    if j_r > space.shape[1] -1:\n",
    "        j_r = 0\n",
    "    ## Compute neigbors\n",
    "    return (space[i_l][j_l] + space[i_l][j] + space[i_l][j_r] +\n",
    "            space[i][j_l] + space[i][j_r] +\n",
    "            space[i_r][j_l] + space[i_r][j] + space[i_r][j_r])\n",
    "\n",
    "def randomize(space):\n",
    "    times = np.random.randint(1,10)\n",
    "    for i in range(times):\n",
    "        sign = np.random.choice([False,True])\n",
    "        if sign:\n",
    "            space = (space | np.roll(space,i))\n",
    "        else:\n",
    "            space = (space.T | np.roll(space,i))\n",
    "    times = np.random.randint(space.shape[0])\n",
    "    \n",
    "    for _ in range(times):\n",
    "        random_blob(space)\n",
    "        \n",
    "    return space"
   ]
  },
  {
   "cell_type": "code",
   "execution_count": 3,
   "metadata": {
    "ExecuteTime": {
     "end_time": "2024-11-25T15:06:18.703032Z",
     "start_time": "2024-11-25T15:04:26.740652Z"
    }
   },
   "outputs": [
    {
     "name": "stdout",
     "output_type": "stream",
     "text": [
      "Iter 0\n",
      "Iter 100\n",
      "Iter 200\n",
      "Iter 300\n",
      "Iter 400\n"
     ]
    },
    {
     "data": {
      "image/png": "[encoded data removed]",
      "text/plain": [
       "<Figure size 432x288 with 1 Axes>"
      ]
     },
     "metadata": {
      "needs_background": "light"
     },
     "output_type": "display_data"
    }
   ],
   "source": [
    "space = np.random.choice([0,1],size=M*M,p=[1-p,p]).reshape((M,M))\n",
    "space = randomize(space)\n",
    "\n",
    "fig = plt.figure()\n",
    "ax = plt.Axes(fig, [0., 0., 1., 1.])\n",
    "ax.set_axis_off()\n",
    "fig.add_axes(ax)\n",
    "plot =ax.imshow(space,cmap='plasma')\n",
    "\n",
    "def init():\n",
    "    plot.set_data(space)\n",
    "    return [plot]\n",
    "\n",
    "def update(j, *fargs):\n",
    "    if j % 100 == 0:\n",
    "        print(\"Iter {}\".format(j))\n",
    "    space_out_1 = game(space)\n",
    "    space_out_2 = game(space_out_1).astype(float)\n",
    "    space_out_3 = game(space_out_2).astype(float)\n",
    "    space_out_4 = game(space_out_3).astype(float)\n",
    "    \n",
    "    for i in range(space.shape[0]):\n",
    "        for j in range(space.shape[1]):\n",
    "            space[i,j] = space_out_1[i,j]\n",
    "    if (space - space_out_1).sum() == 0 or (space - space_out_2).sum() == 0:\n",
    "        random_blob(space) \n",
    "            \n",
    "    plot.set_data(space_out_1+0.5*space_out_2+0.25*space_out_3+0.125*space_out_4)\n",
    "    return [plot]\n",
    "\n",
    "anim = FuncAnimation(fig, update, init_func = init, frames=500, interval = 50, blit=True)\n",
    "WriterClass = animation.writers['ffmpeg']\n",
    "writer = WriterClass(fps=10, metadata=dict(artist='bww'), bitrate=1800)\n",
    "anim.save('anim.mp4',savefig_kwargs={'facecolor':'black'})"
   ]
  },
  {
   "cell_type": "code",
   "execution_count": null,
   "metadata": {},
   "outputs": [],
   "source": [
    "print(np.unique(space))"
   ]
  }
 ],
 "metadata": {
  "kernelspec": {
   "display_name": "Python 3 (ipykernel)",
   "language": "python",
   "name": "python3"
  },
  "language_info": {
   "codemirror_mode": {
    "name": "ipython",
    "version": 3
   },
   "file_extension": ".py",
   "mimetype": "text/x-python",
   "name": "python",
   "nbconvert_exporter": "python",
   "pygments_lexer": "ipython3",
   "version": "3.7.7"
  }
 },
 "nbformat": 4,
 "nbformat_minor": 2
}
